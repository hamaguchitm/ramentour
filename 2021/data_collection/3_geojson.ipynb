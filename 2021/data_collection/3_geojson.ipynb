{
 "cells": [
  {
   "cell_type": "code",
   "execution_count": 1,
   "id": "2a172de4-dc88-49eb-8fad-fc2a55ec7d15",
   "metadata": {},
   "outputs": [],
   "source": [
    "%matplotlib inline\n",
    "import pandas as pd\n",
    "import geopandas as gpd\n",
    "import os"
   ]
  },
  {
   "cell_type": "code",
   "execution_count": 2,
   "id": "d87b88e4-8242-49e1-8e91-2d4ae4097759",
   "metadata": {},
   "outputs": [],
   "source": [
    "os.makedirs('../data', exist_ok=True)"
   ]
  },
  {
   "cell_type": "code",
   "execution_count": 3,
   "id": "3a55416e-7de3-4d02-af41-e8dc511a1de7",
   "metadata": {},
   "outputs": [
    {
     "data": {
      "text/html": [
       "<div>\n",
       "<style scoped>\n",
       "    .dataframe tbody tr th:only-of-type {\n",
       "        vertical-align: middle;\n",
       "    }\n",
       "\n",
       "    .dataframe tbody tr th {\n",
       "        vertical-align: top;\n",
       "    }\n",
       "\n",
       "    .dataframe thead th {\n",
       "        text-align: right;\n",
       "    }\n",
       "</style>\n",
       "<table border=\"1\" class=\"dataframe\">\n",
       "  <thead>\n",
       "    <tr style=\"text-align: right;\">\n",
       "      <th></th>\n",
       "      <th>name</th>\n",
       "      <th>score</th>\n",
       "      <th>station</th>\n",
       "      <th>tel</th>\n",
       "      <th>address</th>\n",
       "      <th>latitude</th>\n",
       "      <th>longitude</th>\n",
       "      <th>open_time</th>\n",
       "      <th>closed_days</th>\n",
       "      <th>sheets</th>\n",
       "      <th>url</th>\n",
       "      <th>icon_url</th>\n",
       "      <th>summarize_0</th>\n",
       "      <th>summarize_1</th>\n",
       "      <th>area</th>\n",
       "    </tr>\n",
       "  </thead>\n",
       "  <tbody>\n",
       "    <tr>\n",
       "      <th>0</th>\n",
       "      <td>銀座 八五（はちごう）</td>\n",
       "      <td>3.9</td>\n",
       "      <td>東銀座駅</td>\n",
       "      <td>050-5596-6139</td>\n",
       "      <td>東京都中央区銀座3-14-2 第一はなぶさビル 1F</td>\n",
       "      <td>35.670537</td>\n",
       "      <td>139.770138</td>\n",
       "      <td>11：00~15：0017：00~21：00※スープがなくなり次第、営業終了とさせていただい...</td>\n",
       "      <td>［毎週水曜日］［第2第4木曜日］</td>\n",
       "      <td>6席 （カウンターのみ）</td>\n",
       "      <td>https://tabelog.com/tokyo/A1301/A130101/13228602/</td>\n",
       "      <td>https://tblg.k-img.com/resize/640x640c/restaur...</td>\n",
       "      <td>1</td>\n",
       "      <td>1</td>\n",
       "      <td>1</td>\n",
       "    </tr>\n",
       "    <tr>\n",
       "      <th>1</th>\n",
       "      <td>麺屋ひょっとこ 交通会館店</td>\n",
       "      <td>3.78</td>\n",
       "      <td>有楽町駅</td>\n",
       "      <td>03-3211-6002</td>\n",
       "      <td>東京都千代田区有楽町2-10-1 東京交通会館 B1F</td>\n",
       "      <td>35.675160</td>\n",
       "      <td>139.764343</td>\n",
       "      <td>[平日]11:00～20:00[土]11:00～19:00※売り切れ次第終了</td>\n",
       "      <td>日・祝</td>\n",
       "      <td>7席 （カウンターのみ）</td>\n",
       "      <td>https://tabelog.com/tokyo/A1301/A130102/13046637/</td>\n",
       "      <td>https://tblg.k-img.com/resize/640x640c/restaur...</td>\n",
       "      <td>1</td>\n",
       "      <td>0</td>\n",
       "      <td>1</td>\n",
       "    </tr>\n",
       "    <tr>\n",
       "      <th>2</th>\n",
       "      <td>むぎとオリーブ 銀座店</td>\n",
       "      <td>3.78</td>\n",
       "      <td>東銀座駅</td>\n",
       "      <td>03-3571-2123</td>\n",
       "      <td>東京都中央区銀座6-12-12 銀座ステラビル 1F</td>\n",
       "      <td>35.668956</td>\n",
       "      <td>139.764284</td>\n",
       "      <td>【平日】11:30～22:30 (LO22:00)【土・日・祝】11:00～22:30 (L...</td>\n",
       "      <td>-</td>\n",
       "      <td>15席 （カウンター15席）</td>\n",
       "      <td>https://tabelog.com/tokyo/A1301/A130101/13164932/</td>\n",
       "      <td>https://tblg.k-img.com/resize/640x640c/restaur...</td>\n",
       "      <td>1</td>\n",
       "      <td>0</td>\n",
       "      <td>1</td>\n",
       "    </tr>\n",
       "    <tr>\n",
       "      <th>3</th>\n",
       "      <td>銀座 朧月（おぼろづき）</td>\n",
       "      <td>3.78</td>\n",
       "      <td>銀座駅</td>\n",
       "      <td>03-6280-6166</td>\n",
       "      <td>東京都中央区銀座6-3-5 第一高橋ビル 1F</td>\n",
       "      <td>35.671581</td>\n",
       "      <td>139.761402</td>\n",
       "      <td>【月〜日】昼の部：11:30～15:30夜の部：17:30～22:00※スープがなくなり次第終了</td>\n",
       "      <td>不定休</td>\n",
       "      <td>7席 （カウンターのみ）</td>\n",
       "      <td>https://tabelog.com/tokyo/A1301/A130101/13118141/</td>\n",
       "      <td>https://tblg.k-img.com/resize/640x640c/restaur...</td>\n",
       "      <td>1</td>\n",
       "      <td>0</td>\n",
       "      <td>1</td>\n",
       "    </tr>\n",
       "    <tr>\n",
       "      <th>4</th>\n",
       "      <td>新橋 纏（まとい）</td>\n",
       "      <td>3.77</td>\n",
       "      <td>新橋駅</td>\n",
       "      <td>03-3436-6003</td>\n",
       "      <td>東京都港区新橋3-13-2 IKENO-5 1F</td>\n",
       "      <td>35.665866</td>\n",
       "      <td>139.756298</td>\n",
       "      <td>【平日】11:00～15:0017:30～22:00【土】11:00～15:0017:30～...</td>\n",
       "      <td>無休</td>\n",
       "      <td>9席 （カウンター席のみ）</td>\n",
       "      <td>https://tabelog.com/tokyo/A1301/A130103/13156937/</td>\n",
       "      <td>https://tblg.k-img.com/resize/640x640c/restaur...</td>\n",
       "      <td>1</td>\n",
       "      <td>0</td>\n",
       "      <td>1</td>\n",
       "    </tr>\n",
       "  </tbody>\n",
       "</table>\n",
       "</div>"
      ],
      "text/plain": [
       "            name score station            tel                      address  \\\n",
       "0    銀座 八五（はちごう）   3.9    東銀座駅  050-5596-6139   東京都中央区銀座3-14-2 第一はなぶさビル 1F   \n",
       "1  麺屋ひょっとこ 交通会館店  3.78    有楽町駅   03-3211-6002  東京都千代田区有楽町2-10-1 東京交通会館 B1F   \n",
       "2    むぎとオリーブ 銀座店  3.78    東銀座駅   03-3571-2123   東京都中央区銀座6-12-12 銀座ステラビル 1F   \n",
       "3   銀座 朧月（おぼろづき）  3.78     銀座駅   03-6280-6166      東京都中央区銀座6-3-5 第一高橋ビル 1F   \n",
       "4      新橋 纏（まとい）  3.77     新橋駅   03-3436-6003     東京都港区新橋3-13-2 IKENO-5 1F   \n",
       "\n",
       "    latitude   longitude                                          open_time  \\\n",
       "0  35.670537  139.770138  11：00~15：0017：00~21：00※スープがなくなり次第、営業終了とさせていただい...   \n",
       "1  35.675160  139.764343             [平日]11:00～20:00[土]11:00～19:00※売り切れ次第終了   \n",
       "2  35.668956  139.764284  【平日】11:30～22:30 (LO22:00)【土・日・祝】11:00～22:30 (L...   \n",
       "3  35.671581  139.761402   【月〜日】昼の部：11:30～15:30夜の部：17:30～22:00※スープがなくなり次第終了   \n",
       "4  35.665866  139.756298  【平日】11:00～15:0017:30～22:00【土】11:00～15:0017:30～...   \n",
       "\n",
       "        closed_days          sheets  \\\n",
       "0  ［毎週水曜日］［第2第4木曜日］    6席 （カウンターのみ）   \n",
       "1               日・祝    7席 （カウンターのみ）   \n",
       "2                 -  15席 （カウンター15席）   \n",
       "3               不定休    7席 （カウンターのみ）   \n",
       "4                無休   9席 （カウンター席のみ）   \n",
       "\n",
       "                                                 url  \\\n",
       "0  https://tabelog.com/tokyo/A1301/A130101/13228602/   \n",
       "1  https://tabelog.com/tokyo/A1301/A130102/13046637/   \n",
       "2  https://tabelog.com/tokyo/A1301/A130101/13164932/   \n",
       "3  https://tabelog.com/tokyo/A1301/A130101/13118141/   \n",
       "4  https://tabelog.com/tokyo/A1301/A130103/13156937/   \n",
       "\n",
       "                                            icon_url  summarize_0  \\\n",
       "0  https://tblg.k-img.com/resize/640x640c/restaur...            1   \n",
       "1  https://tblg.k-img.com/resize/640x640c/restaur...            1   \n",
       "2  https://tblg.k-img.com/resize/640x640c/restaur...            1   \n",
       "3  https://tblg.k-img.com/resize/640x640c/restaur...            1   \n",
       "4  https://tblg.k-img.com/resize/640x640c/restaur...            1   \n",
       "\n",
       "   summarize_1  area  \n",
       "0            1     1  \n",
       "1            0     1  \n",
       "2            0     1  \n",
       "3            0     1  \n",
       "4            0     1  "
      ]
     },
     "execution_count": 3,
     "metadata": {},
     "output_type": "execute_result"
    }
   ],
   "source": [
    "df = pd.read_csv('./store_summarize.csv')\n",
    "df['area'] = df['url'].str[29:31].astype(int)\n",
    "df['closed_days'] = df['closed_days'].fillna('-').astype(str)\n",
    "df.head()"
   ]
  },
  {
   "cell_type": "markdown",
   "id": "69e24697-e9d6-48de-b8d4-b8929070ce3b",
   "metadata": {},
   "source": [
    "エリアの検討\n",
    "* A1301 銀座・新橋・有楽町\n",
    "* A1302 東京・日本橋\n",
    "* A1303 渋谷・恵比寿・代官山\n",
    "* A1304 新宿・代々木・大久保\n",
    "* A1305 池袋～高田馬場・早稲田\n",
    "* A1306 原宿・表参道・青山\n",
    "* A1307 六本木・麻布・広尾\n",
    "* A1308 赤坂・永田町・溜池\n",
    "* A1309 四ツ谷・市ヶ谷・飯田橋\n",
    "* A1310 秋葉原・神田・水道橋\n",
    "* A1311 上野・浅草・日暮里\n",
    "* A1312 両国・錦糸町・小岩\n",
    "* A1313 築地・湾岸・お台場\n",
    "* A1314 浜松町・田町・品川\n",
    "* A1315 大井・蒲田\n",
    "* A1316 目黒・白金・五反田\n",
    "* A1317 東急沿線\n",
    "* A1318 京王・小田急沿線\n",
    "* A1319 中野～西荻窪\n",
    "* A1320 吉祥寺・三鷹・武蔵境\n",
    "* A1321 西武沿線\n",
    "* A1322 板橋・東武沿線\n",
    "* A1323 大塚・巣鴨・駒込・赤羽\n",
    "* A1324 千住・綾瀬・葛飾\n",
    "* A1325 小金井・国分寺・国立\n",
    "* A1326 調布・府中・狛江\n",
    "* A1327 町田・稲城・多摩\n",
    "* A1328 西東京市周辺\n",
    "* A1329 立川市・八王子市周辺\n",
    "* A1330 福生・青梅周辺\n",
    "* A1331 伊豆諸島・小笠原"
   ]
  },
  {
   "cell_type": "code",
   "execution_count": 7,
   "id": "ef33cd7f-3a33-42d7-9b50-a4c8e02bbf93",
   "metadata": {},
   "outputs": [
    {
     "name": "stdout",
     "output_type": "stream",
     "text": [
      "(1221, 15)\n",
      "(874, 15)\n"
     ]
    }
   ],
   "source": [
    "print(df.shape)\n",
    "df2 = df[(df['score'] != '-') &\n",
    "         (df['area'] < 30) &\n",
    "         (~df['closed_days'].str.contains('日曜')) &\n",
    "         (~df['closed_days'].str.contains('日・祝'))]\n",
    "print(df2.shape)"
   ]
  },
  {
   "cell_type": "code",
   "execution_count": 8,
   "id": "116a903c-49e4-41d1-bd41-0f71cd25d7ec",
   "metadata": {},
   "outputs": [
    {
     "data": {
      "text/plain": [
       "<AxesSubplot:>"
      ]
     },
     "execution_count": 8,
     "metadata": {},
     "output_type": "execute_result"
    },
    {
     "data": {
      "image/png": "[encoded data removed]",
      "text/plain": [
       "<Figure size 432x288 with 1 Axes>"
      ]
     },
     "metadata": {
      "needs_background": "light"
     },
     "output_type": "display_data"
    }
   ],
   "source": [
    "gdf = gpd.GeoDataFrame(df2, geometry=gpd.points_from_xy(df2.longitude, df2.latitude))\n",
    "gdf.plot()"
   ]
  },
  {
   "cell_type": "code",
   "execution_count": 9,
   "id": "53b18144-91ab-42a0-a7e9-1e9082700919",
   "metadata": {},
   "outputs": [],
   "source": [
    "gdf.to_file(\"../data/store_all.geojson\", driver='GeoJSON')"
   ]
  },
  {
   "cell_type": "code",
   "execution_count": 10,
   "id": "b793d572-1910-4564-97ab-a55e245979f4",
   "metadata": {},
   "outputs": [
    {
     "data": {
      "text/plain": [
       "<AxesSubplot:>"
      ]
     },
     "execution_count": 10,
     "metadata": {},
     "output_type": "execute_result"
    },
    {
     "data": {
      "image/png": "[encoded data removed]",
      "text/plain": [
       "<Figure size 432x288 with 1 Axes>"
      ]
     },
     "metadata": {
      "needs_background": "light"
     },
     "output_type": "display_data"
    }
   ],
   "source": [
    "df2 = df2[df2['summarize_0'] == 1]\n",
    "gdf = gpd.GeoDataFrame(df2, geometry=gpd.points_from_xy(df2.longitude, df2.latitude))\n",
    "gdf.plot()"
   ]
  },
  {
   "cell_type": "code",
   "execution_count": 11,
   "id": "b929bf57-15b5-4d38-b0ef-67365073b44f",
   "metadata": {},
   "outputs": [],
   "source": [
    "gdf.to_file(\"../data/store_summarize.geojson\", driver='GeoJSON')"
   ]
  },
  {
   "cell_type": "code",
   "execution_count": null,
   "id": "15cfaad7-d611-4c98-bbbc-11ba6aa610cc",
   "metadata": {},
   "outputs": [],
   "source": []
  }
 ],
 "metadata": {
  "kernelspec": {
   "display_name": "Python 3 (ipykernel)",
   "language": "python",
   "name": "python3"
  },
  "language_info": {
   "codemirror_mode": {
    "name": "ipython",
    "version": 3
   },
   "file_extension": ".py",
   "mimetype": "text/x-python",
   "name": "python",
   "nbconvert_exporter": "python",
   "pygments_lexer": "ipython3",
   "version": "3.9.7"
  }
 },
 "nbformat": 4,
 "nbformat_minor": 5
}
