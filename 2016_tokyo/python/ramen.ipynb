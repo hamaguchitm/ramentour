{
 "cells": [
  {
   "cell_type": "markdown",
   "metadata": {},
   "source": [
    "# やりたいこと\n",
    "* 食べログの東京の各エリアのランキングページのURLを取得\n",
    "* ランキングページから店舗ページのURLを取得\n",
    "* 店舗ページから店舗名、スコア、住所、最寄り駅、電話番号、営業時間、定休日、アイコン画像URL、緯度経度を取得"
   ]
  },
  {
   "cell_type": "markdown",
   "metadata": {},
   "source": [
    "## 食べログの東京の各エリアのランキングページのURLを取得\n",
    "`https://tabelog.com/tokyo/A13[01..31]/rstLst/MC/[0..1]/?SrtT=rt&sort_mode=0`で生成できる\n",
    "\n",
    "* https://tabelog.com/tokyo/A1301/rstLst/MC/?SrtT=rt&sort_mode=0 銀座・新橋・有楽町\n",
    "* https://tabelog.com/tokyo/A1302/rstLst/MC/?SrtT=rt&sort_mode=0 東京・日本橋\n",
    "* https://tabelog.com/tokyo/A1303/rstLst/MC/?SrtT=rt&sort_mode=0 渋谷・恵比寿・代官山\n",
    "* https://tabelog.com/tokyo/A1304/rstLst/MC/?SrtT=rt&sort_mode=0 新宿・代々木・大久保\n",
    "* https://tabelog.com/tokyo/A1305/rstLst/MC/?SrtT=rt&sort_mode=0 池袋～高田馬場・早稲田\n",
    "* https://tabelog.com/tokyo/A1306/rstLst/MC/?SrtT=rt&sort_mode=0 原宿・表参道・青山\n",
    "* https://tabelog.com/tokyo/A1307/rstLst/MC/?SrtT=rt&sort_mode=0 六本木・麻布・広尾\n",
    "* https://tabelog.com/tokyo/A1308/rstLst/MC/?SrtT=rt&sort_mode=0 赤坂・永田町・溜池\n",
    "* https://tabelog.com/tokyo/A1309/rstLst/MC/?SrtT=rt&sort_mode=0 四ツ谷・市ヶ谷・飯田橋\n",
    "* https://tabelog.com/tokyo/A1310/rstLst/MC/?SrtT=rt&sort_mode=0 秋葉原・神田・水道橋\n",
    "* https://tabelog.com/tokyo/A1311/rstLst/MC/?SrtT=rt&sort_mode=0 上野・浅草・日暮里\n",
    "* https://tabelog.com/tokyo/A1314/rstLst/MC/?SrtT=rt&sort_mode=0 浜松町・田町・品川\n",
    "* https://tabelog.com/tokyo/A1316/rstLst/MC/?SrtT=rt&sort_mode=0 目黒・白金・五反田\n",
    "* https://tabelog.com/tokyo/A1323/rstLst/MC/?SrtT=rt&sort_mode=0 大塚・巣鴨・駒込・赤羽\n",
    "* https://tabelog.com/tokyo/A1312/rstLst/MC/?SrtT=rt&sort_mode=0 両国・錦糸町・小岩\n",
    "* https://tabelog.com/tokyo/A1313/rstLst/MC/?SrtT=rt&sort_mode=0 築地・湾岸・お台場\n",
    "* https://tabelog.com/tokyo/A1315/rstLst/MC/?SrtT=rt&sort_mode=0 大井・蒲田\n",
    "* https://tabelog.com/tokyo/A1317/rstLst/MC/?SrtT=rt&sort_mode=0 東急沿線\n",
    "* https://tabelog.com/tokyo/A1318/rstLst/MC/?SrtT=rt&sort_mode=0 京王・小田急沿線\n",
    "* https://tabelog.com/tokyo/A1319/rstLst/MC/?SrtT=rt&sort_mode=0 中野～西荻窪\n",
    "* https://tabelog.com/tokyo/A1321/rstLst/MC/?SrtT=rt&sort_mode=0 西武沿線\n",
    "* https://tabelog.com/tokyo/A1322/rstLst/MC/?SrtT=rt&sort_mode=0 板橋・東武沿線\n",
    "* https://tabelog.com/tokyo/A1324/rstLst/MC/?SrtT=rt&sort_mode=0 千住・綾瀬・葛飾\n",
    "* https://tabelog.com/tokyo/A1320/rstLst/MC/?SrtT=rt&sort_mode=0 吉祥寺・三鷹・武蔵境\n",
    "* https://tabelog.com/tokyo/A1325/rstLst/MC/?SrtT=rt&sort_mode=0 小金井・国分寺・国立\n",
    "* https://tabelog.com/tokyo/A1326/rstLst/MC/?SrtT=rt&sort_mode=0 調布・府中・狛江\n",
    "* https://tabelog.com/tokyo/A1327/rstLst/MC/?SrtT=rt&sort_mode=0 町田・稲城・多摩\n",
    "* https://tabelog.com/tokyo/A1328/rstLst/MC/?SrtT=rt&sort_mode=0 西東京市周辺\n",
    "* https://tabelog.com/tokyo/A1329/rstLst/MC/?SrtT=rt&sort_mode=0 立川市・八王子市周辺\n",
    "* https://tabelog.com/tokyo/A1330/rstLst/MC/?SrtT=rt&sort_mode=0 福生・青梅周辺\n",
    "* https://tabelog.com/tokyo/A1331/rstLst/MC/?SrtT=rt&sort_mode=0 伊豆諸島・小笠原"
   ]
  },
  {
   "cell_type": "markdown",
   "metadata": {},
   "source": [
    "## ランキングページから店舗ページのURLを取得\n",
    "以下の要素から取得できる\n",
    "```\n",
    "<li class=\"list-rst is-blocklink js-bookmark js-open-newtab list-rst--ranking js-done\" data-detail-url=\"https://tabelog.com/tokyo/A1301/A130101/13153231/\" data-rst-id=\"13153231\">\n",
    "...  \n",
    "</li>\n",
    "```"
   ]
  },
  {
   "cell_type": "code",
   "execution_count": null,
   "metadata": {
    "collapsed": false,
    "scrolled": true
   },
   "outputs": [],
   "source": [
    "import lxml.html\n",
    "import requests\n",
    "\n",
    "target_url = \"https://tabelog.com/tokyo/A1301/rstLst/MC/?SrtT=rt&sort_mode=0\"\n",
    "target_html = requests.get(target_url).text\n",
    "\n",
    "# domを取得\n",
    "dom = lxml.html.fromstring(target_html)\n",
    "dom"
   ]
  },
  {
   "cell_type": "code",
   "execution_count": null,
   "metadata": {
    "collapsed": false
   },
   "outputs": [],
   "source": [
    "# data-detail-urlの属性を持つli要素を取得\n",
    "list_rst = dom.xpath('//li[@data-detail-url]')\n",
    "list_rst"
   ]
  },
  {
   "cell_type": "code",
   "execution_count": null,
   "metadata": {
    "collapsed": false
   },
   "outputs": [],
   "source": [
    "# data-detail-urlの属性の値を取得\n",
    "list_rst[0].attrib['data-detail-url']"
   ]
  },
  {
   "cell_type": "code",
   "execution_count": null,
   "metadata": {
    "collapsed": false
   },
   "outputs": [],
   "source": [
    "# リストの各要素からdata-detail-urlを取得\n",
    "list_rst_url = [x.attrib['data-detail-url'] for x in list_rst]\n",
    "list_rst_url"
   ]
  },
  {
   "cell_type": "markdown",
   "metadata": {},
   "source": [
    "## 店舗ページから属性を取得\n",
    "### 店舗名\n",
    "```\n",
    "<span property=\"v:itemreviewed\">\n",
    "                銀笹\n",
    "              </span>\n",
    "```\n",
    "### スコア\n",
    "```\n",
    "<span property=\"v:average\">3.66</span>\n",
    "```\n",
    "### 最寄り駅\n",
    "```\n",
    "<dl class=\"rdheader-subinfo__item rdheader-subinfo__item--station\">\n",
    "                <dt class=\"rdheader-subinfo__item-title\">最寄り駅：</dt>\n",
    "                <dd class=\"rdheader-subinfo__item-text\">\n",
    "                  \n",
    "        <div class=\"linktree\" onmouseover=\"this.className='linktree is-selected';\" onmouseout=\"this.className='linktree';\">\n",
    "          <div class=\"linktree__parent\">\n",
    "            <a href=\"https://tabelog.com/tokyo/A1313/A131301/R6343/rstLst/\" class=\"linktree__parent-target\">\n",
    "              <span class=\"linktree__parent-target-text\">築地市場駅</span>\n",
    "            </a>\n",
    "          </div>\n",
    "          <div class=\"linktree__childbox\">\n",
    "            <div class=\"c-balloon c-balloon--top linktree__childbaloon\">\n",
    "              <ul class=\"linktree__childlist\"><li class=\"linktree__childlist-item\"><a href=\"https://tabelog.com/tokyo/A1313/A131301/R6343/rstLst/ramen/\">築地市場駅×ラーメン</a></li>\n",
    "              </ul>\n",
    "            </div>\n",
    "          </div>\n",
    "        </div>\n",
    "                </dd>\n",
    "              </dl>\n",
    "```\n",
    "### 電話番号\n",
    "```\n",
    "<p class=\"tel-main\" id=\"js-rst-tel-info\" data-rst-tel=\"03-3543-0280\"><strong>03-3543-0280</strong></p>\n",
    "```\n",
    "### 住所\n",
    "```\n",
    "<p rel=\"address\"><span><a href=\"/tokyo/\" class=\"listlink\">東京都</a></span><span><a href=\"/tokyo/C13102/rstLst/\" class=\"listlink\">中央区</a><a href=\"/tokyo/C13102/C36104/rstLst/\" class=\"listlink\">銀座</a>8-15-2</span> <span>藤ビル 1F</span></p>\n",
    "```\n",
    "### 営業時間\n",
    "```\n",
    "<tr>\n",
    "          <th>営業時間</th>\n",
    "          <td>\n",
    "            <p>11:30～15:00<br>17:30～スープ切れ次第終了<br>※土曜の夜はほとんど営業していないようです<br>※平日の夜でも営業していないことがあります<br>　（平日の夜でも開店直後に行った方が良い。18時半でスープ切れ閉店はよくあります）</p>\n",
    "              <p>ランチ営業</p>\n",
    "          </td>\n",
    "        </tr>\n",
    "```\n",
    "### 定休日\n",
    "```\n",
    "<tr>\n",
    "          <th>定休日</th>\n",
    "          <td><p>日曜・祝日</p></td>\n",
    "        </tr>\n",
    "```\n",
    "### アイコン画像URL\n",
    "```\n",
    "<meta property=\"og:image\" content=\"https://tabelog.ssl.k-img.com/restaurant/images/Rvw/32831/200x200_square_32831042.jpg\">\n",
    "```\n",
    "### 緯度経度\n",
    "```\n",
    "<img alt=\"銀笹 - 地図\" class=\"js-map-lazyload lazy-loaded\" data-original=\"https://maps.googleapis.com/maps/api/staticmap?client=gme-kakakucominc&amp;channel=tabelog.com&amp;sensor=false&amp;hl=ja&amp;center=35.66622675985987,139.76340830352552&amp;markers=color:red%7C35.66622675985987,139.76340830352552&amp;zoom=15&amp;size=510x150&amp;signature=HQXShletEdiQHmXWL9FPdCXgqh8=\" src=\"https://maps.googleapis.com/maps/api/staticmap?client=gme-kakakucominc&amp;channel=tabelog.com&amp;sensor=false&amp;hl=ja&amp;center=35.66622675985987,139.76340830352552&amp;markers=color:red%7C35.66622675985987,139.76340830352552&amp;zoom=15&amp;size=510x150&amp;signature=HQXShletEdiQHmXWL9FPdCXgqh8=\">\n",
    "```"
   ]
  },
  {
   "cell_type": "code",
   "execution_count": null,
   "metadata": {
    "collapsed": false
   },
   "outputs": [],
   "source": [
    "rst_url = \"https://tabelog.com/tokyo/A1301/A130103/13119563/\"\n",
    "rst_html = requests.get(rst_url).text\n",
    "\n",
    "# domを取得\n",
    "rst_dom = lxml.html.fromstring(rst_html)\n",
    "rst_dom"
   ]
  },
  {
   "cell_type": "code",
   "execution_count": null,
   "metadata": {
    "collapsed": false
   },
   "outputs": [],
   "source": [
    "name = rst_dom.xpath('normalize-space(//span[@property=\"v:itemreviewed\"])')\n",
    "name"
   ]
  },
  {
   "cell_type": "code",
   "execution_count": null,
   "metadata": {
    "collapsed": false
   },
   "outputs": [],
   "source": [
    "score = rst_dom.xpath('//span[@property=\"v:average\"]')[0].text\n",
    "score"
   ]
  },
  {
   "cell_type": "code",
   "execution_count": null,
   "metadata": {
    "collapsed": false
   },
   "outputs": [],
   "source": [
    "station = rst_dom.xpath('//dl[@class=\"rdheader-subinfo__item rdheader-subinfo__item--station\"]//span')[0].text\n",
    "rstation"
   ]
  },
  {
   "cell_type": "code",
   "execution_count": null,
   "metadata": {
    "collapsed": false
   },
   "outputs": [],
   "source": [
    "rst_data = rst_dom.xpath('//table[@class=\"rst-data\"]')[0].xpath('tbody/tr')\n",
    "\n",
    "tel = rst_data[2].xpath('//p[@data-rst-tel]')[0].attrib['data-rst-tel']\n",
    "tel"
   ]
  },
  {
   "cell_type": "code",
   "execution_count": null,
   "metadata": {
    "collapsed": false
   },
   "outputs": [],
   "source": [
    "address = rst_data[3].xpath('normalize-space(//p[@rel=\"address\"])')\n",
    "address"
   ]
  },
  {
   "cell_type": "code",
   "execution_count": null,
   "metadata": {
    "collapsed": false
   },
   "outputs": [],
   "source": [
    "open_close = rst_data[5].xpath('normalize-space(td)')\n",
    "open_close"
   ]
  },
  {
   "cell_type": "code",
   "execution_count": null,
   "metadata": {
    "collapsed": false
   },
   "outputs": [],
   "source": [
    "closed_day = rst_data[6].xpath('normalize-space(td)')\n",
    "closed_day"
   ]
  },
  {
   "cell_type": "code",
   "execution_count": null,
   "metadata": {
    "collapsed": false
   },
   "outputs": [],
   "source": [
    "icon = rst_dom.xpath('//meta[@property=\"og:image\"]')[0].attrib['content']\n",
    "icon"
   ]
  },
  {
   "cell_type": "code",
   "execution_count": null,
   "metadata": {
    "collapsed": false
   },
   "outputs": [],
   "source": [
    "map_url = rst_data[3].xpath('//img[@data-original]')[0].attrib['data-original']\n",
    "map_url"
   ]
  },
  {
   "cell_type": "code",
   "execution_count": null,
   "metadata": {
    "collapsed": false
   },
   "outputs": [],
   "source": [
    "from urllib.parse import urlparse, parse_qs\n",
    "\n",
    "map_center = parse_qs(urlparse(map_url).query)['center'][0]\n",
    "map_center"
   ]
  },
  {
   "cell_type": "code",
   "execution_count": null,
   "metadata": {
    "collapsed": false
   },
   "outputs": [],
   "source": [
    "lat, long = map(lambda x: float(x), map_center.split(','))\n",
    "print(\"lat: \" + str(lat))\n",
    "print(\"long: \" + str(long))"
   ]
  },
  {
   "cell_type": "markdown",
   "metadata": {},
   "source": [
    "## ページ構成が変わったのでやり直し\n",
    "### ヘッダ部分からはスコア、最寄り駅のみ取得\n",
    "#### スコア\n",
    "\n",
    "```\n",
    "<b class=\"tb-rating__val rdheader-rating__score-val\" rel=\"v:rating\">\n",
    "                        <span>3.66</span>\n",
    "                      </b>\n",
    "```\n",
    "\n",
    "#### 最寄り駅\n",
    "\n",
    "```\n",
    "<dl class=\"rdheader-subinfo__item rdheader-subinfo__item--station\">\n",
    "                <dt class=\"rdheader-subinfo__item-title\">最寄り駅：</dt>\n",
    "                <dd class=\"rdheader-subinfo__item-text\">\n",
    "                  \n",
    "        <div class=\"linktree\" onmouseover=\"this.className='linktree is-selected';\" onmouseout=\"this.className='linktree';\">\n",
    "          <div class=\"linktree__parent\">\n",
    "            <a href=\"https://tabelog.com/tokyo/A1313/A131301/R6343/rstLst/\" class=\"linktree__parent-target\">\n",
    "              <span class=\"linktree__parent-target-text\">築地市場駅</span>\n",
    "            </a>\n",
    "          </div>\n",
    "          <div class=\"linktree__childbox\">\n",
    "            <div class=\"c-balloon c-balloon--top linktree__childbaloon\">\n",
    "              <ul class=\"linktree__childlist\"><li class=\"linktree__childlist-item\"><a href=\"https://tabelog.com/tokyo/A1313/A131301/R6343/rstLst/ramen/\">築地市場駅×ラーメン</a></li>\n",
    "              </ul>\n",
    "            </div>\n",
    "          </div>\n",
    "        </div>\n",
    "                </dd>\n",
    "              </dl>\n",
    "```\n",
    "\n",
    "#### 店舗基本情報から残りの項目を取得\n",
    "* 店名\n",
    "* TEL\n",
    "* 住所\n",
    "* 緯度経度\n",
    "* 営業時間\n",
    "* 定休日\n",
    "\n",
    "```\n",
    "<table border=\"0\" cellpadding=\"0\" cellspacing=\"0\" class=\"rst-data\">\n",
    "      <tbody>\n",
    "        <tr class=\"rst-name table-first\">\n",
    "          <th>店名</th>\n",
    "          <td>\n",
    "            <p class=\"mname\"><strong>銀笹</strong> （ぎんざさ）</p>\n",
    "            <div class=\"floatclear\"></div>\n",
    "            \n",
    "          </td>\n",
    "        </tr>\n",
    "        <tr>\n",
    "          <th>ジャンル</th>\n",
    "          <td>\n",
    "              <p><span>ラーメン</span></p>\n",
    "          </td>\n",
    "        </tr>\n",
    "          <tr>\n",
    "            <th>TEL・予約</th>\n",
    "            <td>\n",
    "              <div class=\"tel-wrap clearfix\">\n",
    "                <div id=\"tel_info\" class=\"tel-info\">\n",
    "                    <p class=\"tel-main\" id=\"js-rst-tel-info\" data-rst-tel=\"03-3543-0280\"><strong>03-3543-0280</strong></p>\n",
    "  <input id=\"js-tel-type\" name=\"js-tel-type\" type=\"hidden\" value=\"normal\">\n",
    "\n",
    "                      <p class=\"fs11\">※お問い合わせの際は「\"食べログ\"を見た」とお伝えいただければ幸いです。</p>\n",
    "\n",
    "                    <span class=\"reserve-status\">予約不可</span>\n",
    "                </div>\n",
    "\n",
    "\n",
    "              </div>\n",
    "\n",
    "            </td>\n",
    "          </tr>\n",
    "        <tr class=\"address\">\n",
    "          <th>住所</th>\n",
    "          <td>\n",
    "                <p rel=\"address\"><span><a href=\"/tokyo/\" class=\"listlink\">東京都</a></span><span><a href=\"/tokyo/C13102/rstLst/\" class=\"listlink\">中央区</a><a href=\"/tokyo/C13102/C36104/rstLst/\" class=\"listlink\">銀座</a>8-15-2</span> <span>藤ビル 1F</span></p>\n",
    "\n",
    "\n",
    "              <div class=\"rst-map-wrap\">\n",
    "                <div class=\"rst-map\">\n",
    "                    <a href=\"https://tabelog.com/tokyo/A1301/A130103/13119563/dtlmap/\"><img alt=\"銀笹 - 地図\" class=\"js-map-lazyload lazy-loaded\" data-original=\"https://maps.googleapis.com/maps/api/staticmap?client=gme-kakakucominc&amp;channel=tabelog.com&amp;sensor=false&amp;hl=ja&amp;center=35.66622675985987,139.76340830352552&amp;markers=color:red%7C35.66622675985987,139.76340830352552&amp;zoom=15&amp;size=510x150&amp;signature=HQXShletEdiQHmXWL9FPdCXgqh8=\" src=\"https://maps.googleapis.com/maps/api/staticmap?client=gme-kakakucominc&amp;channel=tabelog.com&amp;sensor=false&amp;hl=ja&amp;center=35.66622675985987,139.76340830352552&amp;markers=color:red%7C35.66622675985987,139.76340830352552&amp;zoom=15&amp;size=510x150&amp;signature=HQXShletEdiQHmXWL9FPdCXgqh8=\"></a>\n",
    "                </div>\n",
    "\n",
    "                <div class=\"map-morelinks clearfix\">\n",
    "                  <p class=\"link-map\">\n",
    "                      <a href=\"https://tabelog.com/tokyo/A1301/A130103/13119563/dtlmap/\">大きな地図を見る</a>\n",
    "                  </p>\n",
    "                  <p class=\"link-peripheral\"><span class=\"line\">｜</span><a href=\"https://tabelog.com/tokyo/A1301/A130103/13119563/peripheral_map/\">周辺のお店を探す</a></p>\n",
    "                </div>\n",
    "              </div>\n",
    "          </td>\n",
    "        </tr>\n",
    "          <tr>\n",
    "            <th>交通手段</th>\n",
    "            <td>\n",
    "              <p>・都営大江戸線「築地市場」駅(A3出口)より、徒歩６分<br>・JR「新橋」駅(銀座口)より、徒歩８分</p>\n",
    "              <p>築地市場駅から350m</p>\n",
    "            </td>\n",
    "          </tr>\n",
    "        <tr>\n",
    "          <th>営業時間</th>\n",
    "          <td>\n",
    "            <p>11:30～15:00<br>17:30～スープ切れ次第終了<br>※土曜の夜はほとんど営業していないようです<br>※平日の夜でも営業していないことがあります<br>　（平日の夜でも開店直後に行った方が良い。18時半でスープ切れ閉店はよくあります）</p>\n",
    "              <p>ランチ営業</p>\n",
    "          </td>\n",
    "        </tr>\n",
    "        <tr>\n",
    "          <th>定休日</th>\n",
    "          <td><p>日曜・祝日</p></td>\n",
    "        </tr>\n",
    "        <tr>\n",
    "          <th>予算<span class=\"sub\">(ユーザーより)</span></th>\n",
    "          <td>\n",
    "            <p class=\"clearfix\">\n",
    "              <span class=\"dinner\">[夜]</span><span class=\"price\"> ～￥999</span>\n",
    "               <span class=\"lunch\">[昼]</span><span class=\"price\"> ～￥999</span>\n",
    "            </p>\n",
    "              <p class=\"ex\">\n",
    "                実際にお店へ行った人が使った金額です。\n",
    "                <a href=\"/tokyo/A1301/A130103/13119563/dtlratings/#price-range\">\n",
    "                  予算分布を見る\n",
    "                </a>\n",
    "              </p>\n",
    "          </td>\n",
    "        </tr>\n",
    "          <tr>\n",
    "            <th>カード</th>\n",
    "            <td><p><strong>不可</strong> </p></td>\n",
    "          </tr>\n",
    "      </tbody>\n",
    "    </table>\n",
    "```\n",
    "\n",
    "#### 席設備から席数を取得\n",
    "\n",
    "```\n",
    "<table border=\"0\" cellpadding=\"0\" cellspacing=\"0\" class=\"rst-data\">\n",
    "        <tbody>\n",
    "            <tr class=\"table-first\">\n",
    "              <th>席数</th>\n",
    "              <td>\n",
    "                <p>\n",
    "                    <strong>18席</strong>\n",
    "                    （４人掛けテーブル４卓、２人掛けテーブル１卓）\n",
    "                </p>\n",
    "              </td>\n",
    "            </tr>\n",
    "            <tr>\n",
    "              <th>個室</th>\n",
    "              <td>\n",
    "                <p>\n",
    "                  <strong>無</strong>\n",
    "                  \n",
    "                </p>\n",
    "              </td>\n",
    "            </tr>\n",
    "            <tr>\n",
    "              <th>貸切</th>\n",
    "              <td>\n",
    "                <p>\n",
    "                  <strong>不可</strong>\n",
    "                  \n",
    "                </p>\n",
    "              </td>\n",
    "            </tr>\n",
    "            <tr>\n",
    "              <th>禁煙・喫煙</th>\n",
    "              <td>\n",
    "                <p>\n",
    "                  <strong>完全禁煙</strong>\n",
    "                </p>\n",
    "              </td>\n",
    "            </tr>\n",
    "            <tr>\n",
    "              <th>駐車場</th>\n",
    "              <td><p><strong>無</strong>(近隣コインパーキングあり)</p></td>\n",
    "            </tr>\n",
    "\n",
    "            <tr>\n",
    "              <th>空間・設備</th>\n",
    "              <td><p>落ち着いた空間</p></td>\n",
    "            </tr>\n",
    "\n",
    "            <tr>\n",
    "              <th>携帯電話</th>\n",
    "              <td><p>docomo、au、SoftBank、Y!mobile</p></td>\n",
    "            </tr>\n",
    "        </tbody>\n",
    "      </table>\n",
    "```"
   ]
  },
  {
   "cell_type": "code",
   "execution_count": null,
   "metadata": {
    "collapsed": false
   },
   "outputs": [],
   "source": [
    "import lxml.html\n",
    "import requests\n",
    "import urllib.parse\n",
    "import json\n",
    "import time\n",
    "import random\n",
    "\n",
    "class StoreData(object):\n",
    "    def __init__(self, url):\n",
    "        self.url = url\n",
    "        self.icon = ''\n",
    "        self.score = ''\n",
    "        self.station = ''\n",
    "        self.name = ''\n",
    "        self.tel = ''\n",
    "        self.address = ''\n",
    "        self.latitude = ''\n",
    "        self.longitude = ''\n",
    "        self.open_time = ''\n",
    "        self.closed_days = ''\n",
    "        self.sheets = ''\n",
    "    \n",
    "    def get_data(self, sleep_base = 1):\n",
    "        time.sleep(random.random() * sleep_base)\n",
    "        root = lxml.html.fromstring(requests.get(self.url).text)\n",
    "        \n",
    "        icon = root.xpath('//meta[@property=\"og:image\"]')\n",
    "        if (len(icon) > 0):\n",
    "            self.icon = icon[0].attrib['content']\n",
    "\n",
    "        score =  root.xpath('//b[contains(@class,\"rdheader-rating__score-val\")]/span')\n",
    "        if (len(score) > 0):\n",
    "            self.score = score[0].text\n",
    "                \n",
    "        station = root.xpath('//dl[contains(@class, \"rdheader-subinfo__item--station\")]//span')\n",
    "        if (len(station) > 0):\n",
    "            self.station = station[0].text\n",
    "        \n",
    "        rst_data = root.xpath('//table[@class=\"rst-data\"]')\n",
    "        if (len(rst_data) > 0):\n",
    "            basic_data = rst_data[0].xpath('tbody/tr')\n",
    "            \n",
    "            if (len(basic_data) > 0):\n",
    "                self.name = basic_data[0].xpath('normalize-space(td)')\n",
    "            if (len(basic_data) > 2):\n",
    "                self.tel = basic_data[2].xpath('normalize-space(//p[@data-rst-tel])')\n",
    "            \n",
    "            if (len(basic_data) > 3):\n",
    "                self.address = basic_data[3].xpath('normalize-space(//p[@rel=\"address\"])')\n",
    "                map_data = basic_data[3].xpath('//img[@data-original]')\n",
    "                if (len(map_data) > 0):\n",
    "                    map_url = map_data[0].attrib['data-original']\n",
    "                    self.latitude, self.longitude = urllib.parse.parse_qs(urllib.parse.urlparse(map_url).query)['center'][0].split(',')\n",
    "\n",
    "            if (len(basic_data) > 5):\n",
    "                self.open_time = basic_data[5].xpath('normalize-space(td/p)')\n",
    "            if (len(basic_data) > 6):\n",
    "                self.closed_days = basic_data[6].xpath('normalize-space(td)')\n",
    "\n",
    "        if (len(rst_data) > 1):\n",
    "            sheets = rst_data[1].xpath('tbody/tr[@class=\"table-first\"]')\n",
    "            if (len(sheets) > 0 ):\n",
    "                self.sheets = sheets[0].xpath('normalize-space(td/p/strong)')\n",
    "\n",
    "        return self\n",
    "    \n",
    "    def csv(self, delimiter=','):\n",
    "        return delimiter.join(\n",
    "            [self.name, self.score, self.station,\n",
    "             self.tel, self.address, self.latitude, self.longitude,\n",
    "             self.open_time, self.closed_days, self.sheets, self.icon, self.url])\n",
    "    \n",
    "    def json(self):\n",
    "        return json.dumps({\n",
    "                \"name\": self.name, \"score\": self.score, \"station\": self.station,\n",
    "                \"tel\": self.tel, \"address\": self.address, \"latitude\": self.latitude, \"longitude\": self.longitude,\n",
    "                \"open_time\": self.open_time, \"closed_days\": self.closed_days, \"sheets\": self.sheets, \n",
    "                \"icon\": self.icon, \"url\": self.url \n",
    "            }, ensure_ascii=False, sort_keys=True)\n",
    "    "
   ]
  },
  {
   "cell_type": "code",
   "execution_count": null,
   "metadata": {
    "collapsed": false
   },
   "outputs": [],
   "source": [
    "url_list = [\n",
    "    'https://tabelog.com/tokyo/A1317/A131709/13001429/',\n",
    "    'https://tabelog.com/tokyo/A1317/A131701/13003459/',\n",
    "    'https://tabelog.com/tokyo/A1322/A132205/13004325/',\n",
    "    'https://tabelog.com/tokyo/A1317/A131708/13018247/',\n",
    "    'https://tabelog.com/kanagawa/A1401/A140204/14000095/',\n",
    "    'https://tabelog.com/tokyo/A1304/A130403/13019788/'\n",
    "]\n",
    "\n",
    "store_list = [StoreData(url).get_data() for url in url_list]\n",
    "\n",
    "for store in store_list:\n",
    "    print(store.csv('\\t'))"
   ]
  },
  {
   "cell_type": "code",
   "execution_count": null,
   "metadata": {
    "collapsed": false
   },
   "outputs": [],
   "source": [
    "import lxml.html\n",
    "import requests\n",
    "\n",
    "# https://tabelog.com/tokyo/A13[01..31]/rstLst/MC/[0..1]/?SrtT=rt&sort_mode=0で生成できる\n",
    "rank_urls = [('https://tabelog.com/tokyo/A13%02d/rstLst/MC/%d/?SrtT=rt&sort_mode=0' % (x, y)) for x in range(1,29) for y in range(1,3)]\n",
    "\n",
    "store_data = []\n",
    "print(time.strftime('%Y/%m/%d %H:%M:%S', time.localtime()) + \": start\")\n",
    "\n",
    "for rank_url in rank_urls:\n",
    "    # domを取得\n",
    "    print(time.strftime('%Y/%m/%d %H:%M:%S', time.localtime()) + \": \" + rank_url)\n",
    "    list_elements = lxml.html.fromstring(requests.get(rank_url).text).xpath('//li[@data-detail-url]')\n",
    "    rst_urls = [x.attrib['data-detail-url'] for x in list_elements]\n",
    "    for url in rst_urls:\n",
    "        store_data.append(StoreData(url).get_data())\n",
    "\n",
    "print(time.strftime('%Y/%m/%d %H:%M:%S', time.localtime()) + \": end\")"
   ]
  },
  {
   "cell_type": "code",
   "execution_count": null,
   "metadata": {
    "collapsed": false
   },
   "outputs": [],
   "source": [
    "f = open('./store.tsv', 'w')\n",
    "f.write('name\\tscore\\tstation\\ttel\\taddress\\tlatitude\\tlongitude\\topen_time\\tclosed_days\\tsheets\\turl\\n')\n",
    "f.write('\\n'.join([x.csv('\\t') for x in store_data]))\n",
    "f.close()"
   ]
  },
  {
   "cell_type": "code",
   "execution_count": null,
   "metadata": {
    "collapsed": false
   },
   "outputs": [],
   "source": [
    "f = open('./store.json', 'w')\n",
    "f.write('{\"store_data\": [\\n')\n",
    "f.write(',\\n'.join([x.json() for x in store_data]))\n",
    "f.write(']}\\n')\n",
    "f.close()"
   ]
  },
  {
   "cell_type": "code",
   "execution_count": null,
   "metadata": {
    "collapsed": false
   },
   "outputs": [],
   "source": [
    "import pandas as pd\n",
    "store_data = pd.read_csv('./store.tsv', delimiter='\\t')\n",
    "store_data"
   ]
  },
  {
   "cell_type": "code",
   "execution_count": null,
   "metadata": {
    "collapsed": false
   },
   "outputs": [],
   "source": [
    "store2 = pd.merge(store_data, store_data, on='area_cd', how='inner')[\n",
    "    ['area_cd', 'store_name_x', 'score_x', 'latitude_x', 'longitude_x', 'url_x', \n",
    "     'store_name_y', 'score_y', 'latitude_y', 'longitude_y', 'url_y']]\n",
    "store2"
   ]
  },
  {
   "cell_type": "code",
   "execution_count": null,
   "metadata": {
    "collapsed": false
   },
   "outputs": [],
   "source": [
    "threshold1 = 0.00001\n",
    "store3_1 = store2[\n",
    "    ((store2['latitude_x'] - store2['latitude_y']) ** 2 + (store2['longitude_x'] - store2['longitude_y'])  ** 2) < threshold1\n",
    "]\n",
    "threshold2 = 0.0001\n",
    "store3_2 = store2[\n",
    "    ((store2['latitude_x'] - store2['latitude_y']) ** 2 + (store2['longitude_x'] - store2['longitude_y'])  ** 2) < threshold2\n",
    "]\n",
    "store3_2"
   ]
  },
  {
   "cell_type": "code",
   "execution_count": null,
   "metadata": {
    "collapsed": false
   },
   "outputs": [],
   "source": [
    "store4_1 = store3_1.groupby(['store_name_x', 'score_x', 'url_x'])[['score_y']].max().reset_index()\n",
    "store4_2 = store3_2.groupby(['store_name_x', 'score_x', 'url_x'])[['score_y']].max().reset_index()\n",
    "store4_2"
   ]
  },
  {
   "cell_type": "code",
   "execution_count": null,
   "metadata": {
    "collapsed": false
   },
   "outputs": [],
   "source": [
    "store5_1 = store4_1[store4_1['score_x'] >= store4_1['score_y']][['url_x']]\n",
    "store5_1.columns = ['url']\n",
    "store5_1['delegate1'] = [1] * store5_1.shape[0]\n",
    "store5_2 = store4_2[store4_2['score_x'] >= store4_2['score_y']][['url_x']]\n",
    "store5_2.columns = ['url']\n",
    "store5_2['delegate2'] = [1] * store5_2.shape[0]\n",
    "store5_2"
   ]
  },
  {
   "cell_type": "code",
   "execution_count": null,
   "metadata": {
    "collapsed": false
   },
   "outputs": [],
   "source": [
    "store6 = pd.merge(pd.merge(store_data, store5_1, on='url', how='left'), store5_2, on='url', how='left')\n",
    "store6['delegate1'] = store6['delegate1'].fillna(0)\n",
    "store6['delegate2'] = store6['delegate2'].fillna(0)\n",
    "store6.index = store6.index + 1\n",
    "store6"
   ]
  },
  {
   "cell_type": "code",
   "execution_count": null,
   "metadata": {
    "collapsed": true
   },
   "outputs": [],
   "source": [
    "store6.to_csv('store_delegate2.tsv', sep='\\t')"
   ]
  }
 ],
 "metadata": {
  "anaconda-cloud": {},
  "kernelspec": {
   "display_name": "Python 2",
   "language": "python",
   "name": "python2"
  },
  "language_info": {
   "codemirror_mode": {
    "name": "ipython",
    "version": 2
   },
   "file_extension": ".py",
   "mimetype": "text/x-python",
   "name": "python",
   "nbconvert_exporter": "python",
   "pygments_lexer": "ipython2",
   "version": "2.7.11"
  }
 },
 "nbformat": 4,
 "nbformat_minor": 0
}
