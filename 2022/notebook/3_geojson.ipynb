{
 "cells": [
  {
   "cell_type": "code",
   "execution_count": 1,
   "id": "2a172de4-dc88-49eb-8fad-fc2a55ec7d15",
   "metadata": {},
   "outputs": [],
   "source": [
    "%matplotlib inline\n",
    "import pandas as pd\n",
    "import geopandas as gpd\n",
    "import os"
   ]
  },
  {
   "cell_type": "code",
   "execution_count": 2,
   "id": "3a55416e-7de3-4d02-af41-e8dc511a1de7",
   "metadata": {},
   "outputs": [
    {
     "data": {
      "text/html": [
       "<div>\n",
       "<style scoped>\n",
       "    .dataframe tbody tr th:only-of-type {\n",
       "        vertical-align: middle;\n",
       "    }\n",
       "\n",
       "    .dataframe tbody tr th {\n",
       "        vertical-align: top;\n",
       "    }\n",
       "\n",
       "    .dataframe thead th {\n",
       "        text-align: right;\n",
       "    }\n",
       "</style>\n",
       "<table border=\"1\" class=\"dataframe\">\n",
       "  <thead>\n",
       "    <tr style=\"text-align: right;\">\n",
       "      <th></th>\n",
       "      <th>Unnamed: 0</th>\n",
       "      <th>name</th>\n",
       "      <th>score</th>\n",
       "      <th>station</th>\n",
       "      <th>tel</th>\n",
       "      <th>address</th>\n",
       "      <th>latitude</th>\n",
       "      <th>longitude</th>\n",
       "      <th>open_time</th>\n",
       "      <th>closed_days</th>\n",
       "      <th>sheets</th>\n",
       "      <th>url</th>\n",
       "      <th>icon_url</th>\n",
       "      <th>summarize_0</th>\n",
       "      <th>summarize_1</th>\n",
       "      <th>area</th>\n",
       "    </tr>\n",
       "  </thead>\n",
       "  <tbody>\n",
       "    <tr>\n",
       "      <th>0</th>\n",
       "      <td>0</td>\n",
       "      <td>銀座 八五（はちごう）</td>\n",
       "      <td>3.93</td>\n",
       "      <td>東銀座駅</td>\n",
       "      <td>不明の為情報お待ちしております</td>\n",
       "      <td>東京都中央区銀座3-14-2 第一はなぶさビル 1F</td>\n",
       "      <td>35.670537</td>\n",
       "      <td>139.770138</td>\n",
       "      <td>11：00~※スープがなくなり次第、営業終了とさせていただいております。</td>\n",
       "      <td>日曜日、土曜日（不定休）※不定休日の最新情報は、twitterをご覧ください。</td>\n",
       "      <td>6席 （カウンターのみ）</td>\n",
       "      <td>https://tabelog.com/tokyo/A1301/A130101/13228602/</td>\n",
       "      <td>https://tblg.k-img.com/resize/640x640c/restaur...</td>\n",
       "      <td>1</td>\n",
       "      <td>1</td>\n",
       "      <td>1</td>\n",
       "    </tr>\n",
       "    <tr>\n",
       "      <th>1</th>\n",
       "      <td>1</td>\n",
       "      <td>むぎとオリーブ 銀座本店</td>\n",
       "      <td>3.78</td>\n",
       "      <td>東銀座駅</td>\n",
       "      <td>03-3571-2123</td>\n",
       "      <td>東京都中央区銀座6-12-12 銀座ステラビル 1F</td>\n",
       "      <td>35.669037</td>\n",
       "      <td>139.764321</td>\n",
       "      <td>11:00～20:00</td>\n",
       "      <td>月曜日（※月曜祝日の場合は火曜日もしくは水曜日休み）</td>\n",
       "      <td>15席 （カウンター15席）</td>\n",
       "      <td>https://tabelog.com/tokyo/A1301/A130101/13164932/</td>\n",
       "      <td>https://tblg.k-img.com/resize/640x640c/restaur...</td>\n",
       "      <td>1</td>\n",
       "      <td>0</td>\n",
       "      <td>1</td>\n",
       "    </tr>\n",
       "    <tr>\n",
       "      <th>2</th>\n",
       "      <td>2</td>\n",
       "      <td>麺屋ひょっとこ 交通会館店</td>\n",
       "      <td>3.78</td>\n",
       "      <td>有楽町駅</td>\n",
       "      <td>03-3211-6002</td>\n",
       "      <td>東京都千代田区有楽町2-10-1 東京交通会館 B1F</td>\n",
       "      <td>35.675160</td>\n",
       "      <td>139.764343</td>\n",
       "      <td>[平日]11:00～20:00[土]11:00～19:00※売り切れ次第終了</td>\n",
       "      <td>日・祝</td>\n",
       "      <td>7席 （カウンターのみ）</td>\n",
       "      <td>https://tabelog.com/tokyo/A1301/A130102/13046637/</td>\n",
       "      <td>https://tblg.k-img.com/resize/640x640c/restaur...</td>\n",
       "      <td>1</td>\n",
       "      <td>0</td>\n",
       "      <td>1</td>\n",
       "    </tr>\n",
       "    <tr>\n",
       "      <th>3</th>\n",
       "      <td>3</td>\n",
       "      <td>銀座 朧月（おぼろづき）</td>\n",
       "      <td>3.78</td>\n",
       "      <td>銀座駅</td>\n",
       "      <td>03-6280-6166</td>\n",
       "      <td>東京都中央区銀座6-3-5 第一高橋ビル 1F</td>\n",
       "      <td>35.671581</td>\n",
       "      <td>139.761402</td>\n",
       "      <td>【月、火】11:30～15:30, 17:30～22:00【水〜金】11:30〜16:00,...</td>\n",
       "      <td>無休</td>\n",
       "      <td>7席 （カウンターのみ）</td>\n",
       "      <td>https://tabelog.com/tokyo/A1301/A130101/13118141/</td>\n",
       "      <td>https://tblg.k-img.com/resize/640x640c/restaur...</td>\n",
       "      <td>1</td>\n",
       "      <td>0</td>\n",
       "      <td>1</td>\n",
       "    </tr>\n",
       "    <tr>\n",
       "      <th>4</th>\n",
       "      <td>4</td>\n",
       "      <td>麺処 銀笹（ぎんざさ）</td>\n",
       "      <td>3.78</td>\n",
       "      <td>築地市場駅</td>\n",
       "      <td>03-3543-0280</td>\n",
       "      <td>東京都中央区銀座8-15-2 藤ビル 1F</td>\n",
       "      <td>35.666225</td>\n",
       "      <td>139.763407</td>\n",
       "      <td>[月～土]11:15～15:00</td>\n",
       "      <td>日曜・祝日</td>\n",
       "      <td>18席 （４人掛けテーブル４卓、２人掛けテーブル１卓）</td>\n",
       "      <td>https://tabelog.com/tokyo/A1301/A130103/13119563/</td>\n",
       "      <td>https://tblg.k-img.com/resize/640x640c/restaur...</td>\n",
       "      <td>1</td>\n",
       "      <td>0</td>\n",
       "      <td>1</td>\n",
       "    </tr>\n",
       "  </tbody>\n",
       "</table>\n",
       "</div>"
      ],
      "text/plain": [
       "   Unnamed: 0           name  score station              tel  \\\n",
       "0           0    銀座 八五（はちごう）   3.93    東銀座駅  不明の為情報お待ちしております   \n",
       "1           1   むぎとオリーブ 銀座本店   3.78    東銀座駅     03-3571-2123   \n",
       "2           2  麺屋ひょっとこ 交通会館店   3.78    有楽町駅     03-3211-6002   \n",
       "3           3   銀座 朧月（おぼろづき）   3.78     銀座駅     03-6280-6166   \n",
       "4           4    麺処 銀笹（ぎんざさ）   3.78   築地市場駅     03-3543-0280   \n",
       "\n",
       "                       address   latitude   longitude  \\\n",
       "0   東京都中央区銀座3-14-2 第一はなぶさビル 1F  35.670537  139.770138   \n",
       "1   東京都中央区銀座6-12-12 銀座ステラビル 1F  35.669037  139.764321   \n",
       "2  東京都千代田区有楽町2-10-1 東京交通会館 B1F  35.675160  139.764343   \n",
       "3      東京都中央区銀座6-3-5 第一高橋ビル 1F  35.671581  139.761402   \n",
       "4        東京都中央区銀座8-15-2 藤ビル 1F  35.666225  139.763407   \n",
       "\n",
       "                                           open_time  \\\n",
       "0               11：00~※スープがなくなり次第、営業終了とさせていただいております。   \n",
       "1                                        11:00～20:00   \n",
       "2             [平日]11:00～20:00[土]11:00～19:00※売り切れ次第終了   \n",
       "3  【月、火】11:30～15:30, 17:30～22:00【水〜金】11:30〜16:00,...   \n",
       "4                                   [月～土]11:15～15:00   \n",
       "\n",
       "                               closed_days                       sheets  \\\n",
       "0  日曜日、土曜日（不定休）※不定休日の最新情報は、twitterをご覧ください。                 6席 （カウンターのみ）   \n",
       "1               月曜日（※月曜祝日の場合は火曜日もしくは水曜日休み）               15席 （カウンター15席）   \n",
       "2                                      日・祝                 7席 （カウンターのみ）   \n",
       "3                                       無休                 7席 （カウンターのみ）   \n",
       "4                                    日曜・祝日  18席 （４人掛けテーブル４卓、２人掛けテーブル１卓）   \n",
       "\n",
       "                                                 url  \\\n",
       "0  https://tabelog.com/tokyo/A1301/A130101/13228602/   \n",
       "1  https://tabelog.com/tokyo/A1301/A130101/13164932/   \n",
       "2  https://tabelog.com/tokyo/A1301/A130102/13046637/   \n",
       "3  https://tabelog.com/tokyo/A1301/A130101/13118141/   \n",
       "4  https://tabelog.com/tokyo/A1301/A130103/13119563/   \n",
       "\n",
       "                                            icon_url  summarize_0  \\\n",
       "0  https://tblg.k-img.com/resize/640x640c/restaur...            1   \n",
       "1  https://tblg.k-img.com/resize/640x640c/restaur...            1   \n",
       "2  https://tblg.k-img.com/resize/640x640c/restaur...            1   \n",
       "3  https://tblg.k-img.com/resize/640x640c/restaur...            1   \n",
       "4  https://tblg.k-img.com/resize/640x640c/restaur...            1   \n",
       "\n",
       "   summarize_1  area  \n",
       "0            1     1  \n",
       "1            0     1  \n",
       "2            0     1  \n",
       "3            0     1  \n",
       "4            0     1  "
      ]
     },
     "execution_count": 2,
     "metadata": {},
     "output_type": "execute_result"
    }
   ],
   "source": [
    "df = pd.read_csv(os.path.join(os.pardir, 'data', 'store_summarize.csv'))\n",
    "df['area'] = df['url'].str[29:31].astype(int)\n",
    "df['closed_days'] = df['closed_days'].fillna('-').astype(str)\n",
    "df.head()"
   ]
  },
  {
   "cell_type": "markdown",
   "id": "69e24697-e9d6-48de-b8d4-b8929070ce3b",
   "metadata": {},
   "source": [
    "エリアの検討\n",
    "* A1301 銀座・新橋・有楽町\n",
    "* A1302 東京・日本橋\n",
    "* A1303 渋谷・恵比寿・代官山\n",
    "* A1304 新宿・代々木・大久保\n",
    "* A1305 池袋～高田馬場・早稲田\n",
    "* A1306 原宿・表参道・青山\n",
    "* A1307 六本木・麻布・広尾\n",
    "* A1308 赤坂・永田町・溜池\n",
    "* A1309 四ツ谷・市ヶ谷・飯田橋\n",
    "* A1310 秋葉原・神田・水道橋\n",
    "* A1311 上野・浅草・日暮里\n",
    "* A1312 両国・錦糸町・小岩\n",
    "* A1313 築地・湾岸・お台場\n",
    "* A1314 浜松町・田町・品川\n",
    "* A1315 大井・蒲田\n",
    "* A1316 目黒・白金・五反田\n",
    "* A1317 東急沿線\n",
    "* A1318 京王・小田急沿線\n",
    "* A1319 中野～西荻窪\n",
    "* A1320 吉祥寺・三鷹・武蔵境\n",
    "* A1321 西武沿線\n",
    "* A1322 板橋・東武沿線\n",
    "* A1323 大塚・巣鴨・駒込・赤羽\n",
    "* A1324 千住・綾瀬・葛飾\n",
    "* A1325 小金井・国分寺・国立\n",
    "* A1326 調布・府中・狛江\n",
    "* A1327 町田・稲城・多摩\n",
    "* A1328 西東京市周辺\n",
    "* A1329 立川市・八王子市周辺\n",
    "* A1330 福生・青梅周辺\n",
    "* A1331 伊豆諸島・小笠原"
   ]
  },
  {
   "cell_type": "code",
   "execution_count": 3,
   "id": "ef33cd7f-3a33-42d7-9b50-a4c8e02bbf93",
   "metadata": {},
   "outputs": [
    {
     "name": "stdout",
     "output_type": "stream",
     "text": [
      "(1223, 16)\n",
      "(884, 16)\n"
     ]
    }
   ],
   "source": [
    "print(df.shape)\n",
    "df2 = df[(df['score'] != '-') &\n",
    "         (df['area'] < 30) &\n",
    "         (~df['closed_days'].str.contains('日曜')) &\n",
    "         (~df['closed_days'].str.contains('日・祝'))]\n",
    "print(df2.shape)"
   ]
  },
  {
   "cell_type": "code",
   "execution_count": 4,
   "id": "116a903c-49e4-41d1-bd41-0f71cd25d7ec",
   "metadata": {},
   "outputs": [
    {
     "data": {
      "text/plain": [
       "<AxesSubplot:>"
      ]
     },
     "execution_count": 4,
     "metadata": {},
     "output_type": "execute_result"
    },
    {
     "data": {
      "image/png": "[encoded data removed]",
      "text/plain": [
       "<Figure size 432x288 with 1 Axes>"
      ]
     },
     "metadata": {
      "needs_background": "light"
     },
     "output_type": "display_data"
    }
   ],
   "source": [
    "gdf = gpd.GeoDataFrame(df2, geometry=gpd.points_from_xy(df2.longitude, df2.latitude))\n",
    "gdf.plot()"
   ]
  },
  {
   "cell_type": "code",
   "execution_count": 5,
   "id": "53b18144-91ab-42a0-a7e9-1e9082700919",
   "metadata": {},
   "outputs": [],
   "source": [
    "gdf.to_file(os.path.join(os.pardir, 'data', 'store_all.geojson'), driver='GeoJSON')"
   ]
  },
  {
   "cell_type": "code",
   "execution_count": 6,
   "id": "b793d572-1910-4564-97ab-a55e245979f4",
   "metadata": {},
   "outputs": [
    {
     "data": {
      "text/plain": [
       "<AxesSubplot:>"
      ]
     },
     "execution_count": 6,
     "metadata": {},
     "output_type": "execute_result"
    },
    {
     "data": {
      "image/png": "[encoded data removed]",
      "text/plain": [
       "<Figure size 432x288 with 1 Axes>"
      ]
     },
     "metadata": {
      "needs_background": "light"
     },
     "output_type": "display_data"
    }
   ],
   "source": [
    "df2 = df2[df2['summarize_0'] == 1]\n",
    "gdf = gpd.GeoDataFrame(df2, geometry=gpd.points_from_xy(df2.longitude, df2.latitude))\n",
    "gdf.plot()"
   ]
  },
  {
   "cell_type": "code",
   "execution_count": 7,
   "id": "b929bf57-15b5-4d38-b0ef-67365073b44f",
   "metadata": {},
   "outputs": [],
   "source": [
    "gdf.to_file(os.path.join(os.pardir, 'data', 'store_summarize.geojson'), driver='GeoJSON')"
   ]
  },
  {
   "cell_type": "code",
   "execution_count": null,
   "id": "15cfaad7-d611-4c98-bbbc-11ba6aa610cc",
   "metadata": {},
   "outputs": [],
   "source": []
  }
 ],
 "metadata": {
  "kernelspec": {
   "display_name": "Python 3 (ipykernel)",
   "language": "python",
   "name": "python3"
  },
  "language_info": {
   "codemirror_mode": {
    "name": "ipython",
    "version": 3
   },
   "file_extension": ".py",
   "mimetype": "text/x-python",
   "name": "python",
   "nbconvert_exporter": "python",
   "pygments_lexer": "ipython3",
   "version": "3.7.12"
  }
 },
 "nbformat": 4,
 "nbformat_minor": 5
}
