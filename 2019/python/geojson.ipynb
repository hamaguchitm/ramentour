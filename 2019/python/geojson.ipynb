{
 "cells": [
  {
   "cell_type": "code",
   "execution_count": 1,
   "metadata": {},
   "outputs": [],
   "source": [
    "%matplotlib inline\n",
    "import pandas as pd\n",
    "import geopandas as gpd"
   ]
  },
  {
   "cell_type": "code",
   "execution_count": 2,
   "metadata": {},
   "outputs": [
    {
     "data": {
      "text/html": [
       "<div>\n",
       "<style scoped>\n",
       "    .dataframe tbody tr th:only-of-type {\n",
       "        vertical-align: middle;\n",
       "    }\n",
       "\n",
       "    .dataframe tbody tr th {\n",
       "        vertical-align: top;\n",
       "    }\n",
       "\n",
       "    .dataframe thead th {\n",
       "        text-align: right;\n",
       "    }\n",
       "</style>\n",
       "<table border=\"1\" class=\"dataframe\">\n",
       "  <thead>\n",
       "    <tr style=\"text-align: right;\">\n",
       "      <th></th>\n",
       "      <th>name</th>\n",
       "      <th>score</th>\n",
       "      <th>station</th>\n",
       "      <th>tel</th>\n",
       "      <th>address</th>\n",
       "      <th>latitude</th>\n",
       "      <th>longitude</th>\n",
       "      <th>open_time</th>\n",
       "      <th>closed_days</th>\n",
       "      <th>sheets</th>\n",
       "      <th>url</th>\n",
       "      <th>icon_url</th>\n",
       "      <th>x</th>\n",
       "      <th>delegate1</th>\n",
       "      <th>delegate2</th>\n",
       "      <th>geometry</th>\n",
       "    </tr>\n",
       "  </thead>\n",
       "  <tbody>\n",
       "    <tr>\n",
       "      <th>0</th>\n",
       "      <td>麺屋ひょっとこ 交通会館店</td>\n",
       "      <td>3.78</td>\n",
       "      <td>有楽町駅</td>\n",
       "      <td>03-3211-6002</td>\n",
       "      <td>東京都千代田区有楽町2-10-1 東京交通会館 B1F</td>\n",
       "      <td>35.675100</td>\n",
       "      <td>139.764478</td>\n",
       "      <td>[平日]11:00～20:00[土]11:00～19:00※売り切れ次第終了</td>\n",
       "      <td>日・祝</td>\n",
       "      <td>7席 （カウンターのみ）</td>\n",
       "      <td>https://tabelog.com/tokyo/A1301/A130102/13046637/</td>\n",
       "      <td>https://tblg.k-img.com/resize/640x640c/restaur...</td>\n",
       "      <td>1</td>\n",
       "      <td>1</td>\n",
       "      <td>0</td>\n",
       "      <td>POINT (139.7644783616861 35.67509971838255)</td>\n",
       "    </tr>\n",
       "    <tr>\n",
       "      <th>1</th>\n",
       "      <td>むぎとオリーブ 銀座店</td>\n",
       "      <td>3.78</td>\n",
       "      <td>東銀座駅</td>\n",
       "      <td>03-3571-2123</td>\n",
       "      <td>東京都中央区銀座6-12-12 銀座ステラビル 1F</td>\n",
       "      <td>35.668956</td>\n",
       "      <td>139.764284</td>\n",
       "      <td>【平日】11:30～22:00（L.O.21:45）【土・祝】11:30～21:00（L.O...</td>\n",
       "      <td>日曜日</td>\n",
       "      <td>15席 （カウンター15席）</td>\n",
       "      <td>https://tabelog.com/tokyo/A1301/A130101/13164932/</td>\n",
       "      <td>https://tblg.k-img.com/resize/640x640c/restaur...</td>\n",
       "      <td>1</td>\n",
       "      <td>1</td>\n",
       "      <td>1</td>\n",
       "      <td>POINT (139.7642844939659 35.66895648319166)</td>\n",
       "    </tr>\n",
       "    <tr>\n",
       "      <th>2</th>\n",
       "      <td>麺処 銀笹 （ぎんざさ）</td>\n",
       "      <td>3.78</td>\n",
       "      <td>築地市場駅</td>\n",
       "      <td>03-3543-0280</td>\n",
       "      <td>東京都中央区銀座8-15-2 藤ビル 1F</td>\n",
       "      <td>35.666225</td>\n",
       "      <td>139.763407</td>\n",
       "      <td>11:30～15:0017:30～22:00</td>\n",
       "      <td>日曜・祝日</td>\n",
       "      <td>18席 （４人掛けテーブル４卓、２人掛けテーブル１卓）</td>\n",
       "      <td>https://tabelog.com/tokyo/A1301/A130103/13119563/</td>\n",
       "      <td>https://tblg.k-img.com/resize/640x640c/restaur...</td>\n",
       "      <td>1</td>\n",
       "      <td>1</td>\n",
       "      <td>1</td>\n",
       "      <td>POINT (139.7634074703386 35.66622509335693)</td>\n",
       "    </tr>\n",
       "    <tr>\n",
       "      <th>3</th>\n",
       "      <td>銀座 朧月 （おぼろづき）</td>\n",
       "      <td>3.77</td>\n",
       "      <td>銀座駅</td>\n",
       "      <td>非公開</td>\n",
       "      <td>東京都中央区銀座6-3-5 第一高橋ビル 1F</td>\n",
       "      <td>35.671582</td>\n",
       "      <td>139.761402</td>\n",
       "      <td>【月・火・水】11:30～15:3017:30～22:00【木・金】11:30〜15:301...</td>\n",
       "      <td>第１週土曜日</td>\n",
       "      <td>7席 （カウンターのみ）</td>\n",
       "      <td>https://tabelog.com/tokyo/A1301/A130101/13118141/</td>\n",
       "      <td>https://tblg.k-img.com/resize/640x640c/restaur...</td>\n",
       "      <td>1</td>\n",
       "      <td>1</td>\n",
       "      <td>0</td>\n",
       "      <td>POINT (139.7614021124773 35.67158170760406)</td>\n",
       "    </tr>\n",
       "    <tr>\n",
       "      <th>4</th>\n",
       "      <td>新橋 纏 （まとい）</td>\n",
       "      <td>3.77</td>\n",
       "      <td>新橋駅</td>\n",
       "      <td>03-3436-6003</td>\n",
       "      <td>東京都港区新橋3-13-2 IKENO-5 1F</td>\n",
       "      <td>35.665866</td>\n",
       "      <td>139.756298</td>\n",
       "      <td>【平日】11:00～15:0017:30～22:00【土】11:00～15:0017:30～...</td>\n",
       "      <td>無休</td>\n",
       "      <td>9席 （カウンター席のみ）</td>\n",
       "      <td>https://tabelog.com/tokyo/A1301/A130103/13156937/</td>\n",
       "      <td>https://tblg.k-img.com/resize/640x640c/restaur...</td>\n",
       "      <td>1</td>\n",
       "      <td>1</td>\n",
       "      <td>0</td>\n",
       "      <td>POINT (139.7562980773135 35.6658658409341)</td>\n",
       "    </tr>\n",
       "  </tbody>\n",
       "</table>\n",
       "</div>"
      ],
      "text/plain": [
       "            name score station           tel                      address  \\\n",
       "0  麺屋ひょっとこ 交通会館店  3.78    有楽町駅  03-3211-6002  東京都千代田区有楽町2-10-1 東京交通会館 B1F   \n",
       "1    むぎとオリーブ 銀座店  3.78    東銀座駅  03-3571-2123   東京都中央区銀座6-12-12 銀座ステラビル 1F   \n",
       "2   麺処 銀笹 （ぎんざさ）  3.78   築地市場駅  03-3543-0280        東京都中央区銀座8-15-2 藤ビル 1F   \n",
       "3  銀座 朧月 （おぼろづき）  3.77     銀座駅           非公開      東京都中央区銀座6-3-5 第一高橋ビル 1F   \n",
       "4     新橋 纏 （まとい）  3.77     新橋駅  03-3436-6003     東京都港区新橋3-13-2 IKENO-5 1F   \n",
       "\n",
       "    latitude   longitude                                          open_time  \\\n",
       "0  35.675100  139.764478             [平日]11:00～20:00[土]11:00～19:00※売り切れ次第終了   \n",
       "1  35.668956  139.764284  【平日】11:30～22:00（L.O.21:45）【土・祝】11:30～21:00（L.O...   \n",
       "2  35.666225  139.763407                             11:30～15:0017:30～22:00   \n",
       "3  35.671582  139.761402  【月・火・水】11:30～15:3017:30～22:00【木・金】11:30〜15:301...   \n",
       "4  35.665866  139.756298  【平日】11:00～15:0017:30～22:00【土】11:00～15:0017:30～...   \n",
       "\n",
       "  closed_days                       sheets  \\\n",
       "0         日・祝                 7席 （カウンターのみ）   \n",
       "1         日曜日               15席 （カウンター15席）   \n",
       "2       日曜・祝日  18席 （４人掛けテーブル４卓、２人掛けテーブル１卓）   \n",
       "3      第１週土曜日                 7席 （カウンターのみ）   \n",
       "4          無休                9席 （カウンター席のみ）   \n",
       "\n",
       "                                                 url  \\\n",
       "0  https://tabelog.com/tokyo/A1301/A130102/13046637/   \n",
       "1  https://tabelog.com/tokyo/A1301/A130101/13164932/   \n",
       "2  https://tabelog.com/tokyo/A1301/A130103/13119563/   \n",
       "3  https://tabelog.com/tokyo/A1301/A130101/13118141/   \n",
       "4  https://tabelog.com/tokyo/A1301/A130103/13156937/   \n",
       "\n",
       "                                            icon_url  x  delegate1  delegate2  \\\n",
       "0  https://tblg.k-img.com/resize/640x640c/restaur...  1          1          0   \n",
       "1  https://tblg.k-img.com/resize/640x640c/restaur...  1          1          1   \n",
       "2  https://tblg.k-img.com/resize/640x640c/restaur...  1          1          1   \n",
       "3  https://tblg.k-img.com/resize/640x640c/restaur...  1          1          0   \n",
       "4  https://tblg.k-img.com/resize/640x640c/restaur...  1          1          0   \n",
       "\n",
       "                                      geometry  \n",
       "0  POINT (139.7644783616861 35.67509971838255)  \n",
       "1  POINT (139.7642844939659 35.66895648319166)  \n",
       "2  POINT (139.7634074703386 35.66622509335693)  \n",
       "3  POINT (139.7614021124773 35.67158170760406)  \n",
       "4   POINT (139.7562980773135 35.6658658409341)  "
      ]
     },
     "execution_count": 2,
     "metadata": {},
     "output_type": "execute_result"
    }
   ],
   "source": [
    "df = pd.read_csv('./store_delegate.tsv', sep='\\t')\n",
    "df.head()"
   ]
  },
  {
   "cell_type": "code",
   "execution_count": 3,
   "metadata": {},
   "outputs": [],
   "source": [
    "df['area'] = df['url'].str[29:31].astype(int)"
   ]
  },
  {
   "cell_type": "markdown",
   "metadata": {},
   "source": [
    "* A1301 銀座・新橋・有楽町\n",
    "* A1302 東京・日本橋\n",
    "* A1303 渋谷・恵比寿・代官山\n",
    "* A1304 新宿・代々木・大久保\n",
    "* A1305 池袋～高田馬場・早稲田\n",
    "* A1306 原宿・表参道・青山\n",
    "* A1307 六本木・麻布・広尾\n",
    "* A1308 赤坂・永田町・溜池\n",
    "* A1309 四ツ谷・市ヶ谷・飯田橋\n",
    "* A1310 秋葉原・神田・水道橋\n",
    "* A1311 上野・浅草・日暮里\n",
    "* A1312 両国・錦糸町・小岩\n",
    "* A1313 築地・湾岸・お台場\n",
    "* A1314 浜松町・田町・品川\n",
    "* A1315 大井・蒲田\n",
    "* A1316 目黒・白金・五反田\n",
    "* A1317 東急沿線\n",
    "* A1318 京王・小田急沿線\n",
    "* A1319 中野～西荻窪\n",
    "* A1320 吉祥寺・三鷹・武蔵境\n",
    "* A1321 西武沿線\n",
    "* A1322 板橋・東武沿線\n",
    "* A1323 大塚・巣鴨・駒込・赤羽\n",
    "* A1324 千住・綾瀬・葛飾\n",
    "* A1325 小金井・国分寺・国立\n",
    "* A1326 調布・府中・狛江\n",
    "* A1327 町田・稲城・多摩\n",
    "* A1328 西東京市周辺\n",
    "* A1329 立川市・八王子市周辺\n",
    "* A1330 福生・青梅周辺\n",
    "* A1331 伊豆諸島・小笠原"
   ]
  },
  {
   "cell_type": "code",
   "execution_count": 4,
   "metadata": {},
   "outputs": [
    {
     "data": {
      "text/plain": [
       "0       False\n",
       "1       False\n",
       "2       False\n",
       "3       False\n",
       "4       False\n",
       "        ...  \n",
       "1219      NaN\n",
       "1220      NaN\n",
       "1221      NaN\n",
       "1222      NaN\n",
       "1223      NaN\n",
       "Name: station, Length: 1224, dtype: object"
      ]
     },
     "execution_count": 4,
     "metadata": {},
     "output_type": "execute_result"
    }
   ],
   "source": [
    "df['station'].str.contains('葛西')"
   ]
  },
  {
   "cell_type": "code",
   "execution_count": 6,
   "metadata": {},
   "outputs": [
    {
     "name": "stdout",
     "output_type": "stream",
     "text": [
      "(1224, 17)\n",
      "(555, 13)\n"
     ]
    }
   ],
   "source": [
    "df2 = df[(df['area'] < 17) &\n",
    "         (df['area'] != 15) &\n",
    "         (df['area'] != 12) &\n",
    "         (df['score'] != '-')]\n",
    "# df2 = df2[(df2['score'].astype(float) >= 3.3)]\n",
    "columns = [c for c in df.columns if c not in ('area', 'x', 'delegate1', 'delegate2')]\n",
    "df2 = df2[columns]\n",
    "print(df.shape)\n",
    "print(df2.shape)"
   ]
  },
  {
   "cell_type": "code",
   "execution_count": 7,
   "metadata": {},
   "outputs": [],
   "source": [
    "gdf = gpd.GeoDataFrame(df2, geometry=gpd.points_from_xy(df2.longitude, df2.latitude))"
   ]
  },
  {
   "cell_type": "code",
   "execution_count": 8,
   "metadata": {},
   "outputs": [
    {
     "data": {
      "text/plain": [
       "<matplotlib.axes._subplots.AxesSubplot at 0x118ef7d68>"
      ]
     },
     "execution_count": 8,
     "metadata": {},
     "output_type": "execute_result"
    },
    {
     "data": {
      "image/png": "[encoded data removed]",
      "text/plain": [
       "<Figure size 432x288 with 1 Axes>"
      ]
     },
     "metadata": {
      "needs_background": "light"
     },
     "output_type": "display_data"
    }
   ],
   "source": [
    "gdf.plot()"
   ]
  },
  {
   "cell_type": "code",
   "execution_count": 9,
   "metadata": {},
   "outputs": [],
   "source": [
    "gdf.to_file(\"../data/store_all.geojson\", driver='GeoJSON')"
   ]
  },
  {
   "cell_type": "code",
   "execution_count": 11,
   "metadata": {},
   "outputs": [
    {
     "data": {
      "text/plain": [
       "<matplotlib.axes._subplots.AxesSubplot at 0x118ef7d30>"
      ]
     },
     "execution_count": 11,
     "metadata": {},
     "output_type": "execute_result"
    },
    {
     "data": {
      "image/png": "[encoded data removed]",
      "text/plain": [
       "<Figure size 432x288 with 1 Axes>"
      ]
     },
     "metadata": {
      "needs_background": "light"
     },
     "output_type": "display_data"
    }
   ],
   "source": [
    "df2 = df[(df['area'] < 17) &\n",
    "         (df['area'] != 15) &\n",
    "         (df['area'] != 12) &\n",
    "         (df['score'] != '-') &\n",
    "         (df['delegate1'] == 1)]\n",
    "gdf = gpd.GeoDataFrame(df2, geometry=gpd.points_from_xy(df2.longitude, df2.latitude))\n",
    "gdf.plot()"
   ]
  },
  {
   "cell_type": "code",
   "execution_count": 12,
   "metadata": {},
   "outputs": [],
   "source": [
    "gdf.to_file(\"../data/store_delegate.geojson\", driver='GeoJSON')"
   ]
  },
  {
   "cell_type": "code",
   "execution_count": 13,
   "metadata": {},
   "outputs": [],
   "source": [
    "gdf.head().to_file(\"../data/store_delegate_head.geojson\", driver='GeoJSON')"
   ]
  },
  {
   "cell_type": "code",
   "execution_count": null,
   "metadata": {},
   "outputs": [],
   "source": []
  }
 ],
 "metadata": {
  "kernelspec": {
   "display_name": "Python 3",
   "language": "python",
   "name": "python3"
  },
  "language_info": {
   "codemirror_mode": {
    "name": "ipython",
    "version": 3
   },
   "file_extension": ".py",
   "mimetype": "text/x-python",
   "name": "python",
   "nbconvert_exporter": "python",
   "pygments_lexer": "ipython3",
   "version": "3.7.3"
  }
 },
 "nbformat": 4,
 "nbformat_minor": 2
}
